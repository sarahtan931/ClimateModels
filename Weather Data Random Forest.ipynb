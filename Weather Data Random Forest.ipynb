{
 "cells": [
  {
   "cell_type": "markdown",
   "metadata": {},
   "source": [
    "<h1>Creating a climate model for Weather Data</h1>\n",
    "\n",
    "<h3>Importing all the required libraries</h3>"
   ]
  },
  {
   "cell_type": "code",
   "execution_count": 1,
   "metadata": {},
   "outputs": [],
   "source": [
    "import pandas as pd \n",
    "import numpy as np \n",
    "import matplotlib.pyplot as plt \n",
    "import seaborn as sns\n",
    "\n",
    "from sklearn.metrics import mean_squared_error, r2_score\n",
    "from sklearn.model_selection import train_test_split\n",
    "from sklearn.feature_selection import SelectKBest\n",
    "from sklearn.feature_selection import chi2\n",
    "from sklearn.ensemble import RandomForestRegressor\n"
   ]
  },
  {
   "cell_type": "markdown",
   "metadata": {},
   "source": [
    "<h3>Importing the data set and using linear interpolation to reduce null values</h3>\n",
    "<h3>Reading the first few lines of the data</h3>"
   ]
  },
  {
   "cell_type": "code",
   "execution_count": 2,
   "metadata": {
    "scrolled": true
   },
   "outputs": [
    {
     "data": {
      "text/html": [
       "<div>\n",
       "<style scoped>\n",
       "    .dataframe tbody tr th:only-of-type {\n",
       "        vertical-align: middle;\n",
       "    }\n",
       "\n",
       "    .dataframe tbody tr th {\n",
       "        vertical-align: top;\n",
       "    }\n",
       "\n",
       "    .dataframe thead th {\n",
       "        text-align: right;\n",
       "    }\n",
       "</style>\n",
       "<table border=\"1\" class=\"dataframe\">\n",
       "  <thead>\n",
       "    <tr style=\"text-align: right;\">\n",
       "      <th></th>\n",
       "      <th>x</th>\n",
       "      <th>y</th>\n",
       "      <th>STATION_NAME</th>\n",
       "      <th>CLIMATE_IDENTIFIER</th>\n",
       "      <th>ID</th>\n",
       "      <th>LOCAL_DATE</th>\n",
       "      <th>PROVINCE_CODE</th>\n",
       "      <th>LOCAL_YEAR</th>\n",
       "      <th>LOCAL_MONTH</th>\n",
       "      <th>LOCAL_DAY</th>\n",
       "      <th>...</th>\n",
       "      <th>SPEED_MAX_GUST</th>\n",
       "      <th>SPEED_MAX_GUST_FLAG</th>\n",
       "      <th>COOLING_DEGREE_DAYS</th>\n",
       "      <th>COOLING_DEGREE_DAYS_FLAG</th>\n",
       "      <th>HEATING_DEGREE_DAYS</th>\n",
       "      <th>HEATING_DEGREE_DAYS_FLAG</th>\n",
       "      <th>MIN_REL_HUMIDITY</th>\n",
       "      <th>MIN_REL_HUMIDITY_FLAG</th>\n",
       "      <th>MAX_REL_HUMIDITY</th>\n",
       "      <th>MAX_REL_HUMIDITY_FLAG</th>\n",
       "    </tr>\n",
       "  </thead>\n",
       "  <tbody>\n",
       "    <tr>\n",
       "      <th>0</th>\n",
       "      <td>-81.151111</td>\n",
       "      <td>43.033056</td>\n",
       "      <td>LONDON A</td>\n",
       "      <td>6144473</td>\n",
       "      <td>6144473.2012.3.20</td>\n",
       "      <td>2012-03-20 00:00:00</td>\n",
       "      <td>ON</td>\n",
       "      <td>2012</td>\n",
       "      <td>3</td>\n",
       "      <td>20</td>\n",
       "      <td>...</td>\n",
       "      <td>0.0</td>\n",
       "      <td>NaN</td>\n",
       "      <td>0.00</td>\n",
       "      <td>NaN</td>\n",
       "      <td>0.10</td>\n",
       "      <td>NaN</td>\n",
       "      <td>NaN</td>\n",
       "      <td>NaN</td>\n",
       "      <td>NaN</td>\n",
       "      <td>NaN</td>\n",
       "    </tr>\n",
       "    <tr>\n",
       "      <th>1</th>\n",
       "      <td>-81.151111</td>\n",
       "      <td>43.033056</td>\n",
       "      <td>LONDON A</td>\n",
       "      <td>6144473</td>\n",
       "      <td>6144473.2012.3.21</td>\n",
       "      <td>2012-03-21 00:00:00</td>\n",
       "      <td>ON</td>\n",
       "      <td>2012</td>\n",
       "      <td>3</td>\n",
       "      <td>21</td>\n",
       "      <td>...</td>\n",
       "      <td>50.0</td>\n",
       "      <td>NaN</td>\n",
       "      <td>0.90</td>\n",
       "      <td>NaN</td>\n",
       "      <td>0.00</td>\n",
       "      <td>NaN</td>\n",
       "      <td>NaN</td>\n",
       "      <td>NaN</td>\n",
       "      <td>NaN</td>\n",
       "      <td>NaN</td>\n",
       "    </tr>\n",
       "    <tr>\n",
       "      <th>2</th>\n",
       "      <td>-81.151111</td>\n",
       "      <td>43.033056</td>\n",
       "      <td>LONDON A</td>\n",
       "      <td>6144473</td>\n",
       "      <td>6144473.2012.3.22</td>\n",
       "      <td>2012-03-22 00:00:00</td>\n",
       "      <td>ON</td>\n",
       "      <td>2012</td>\n",
       "      <td>3</td>\n",
       "      <td>22</td>\n",
       "      <td>...</td>\n",
       "      <td>0.0</td>\n",
       "      <td>NaN</td>\n",
       "      <td>1.10</td>\n",
       "      <td>NaN</td>\n",
       "      <td>0.00</td>\n",
       "      <td>NaN</td>\n",
       "      <td>NaN</td>\n",
       "      <td>NaN</td>\n",
       "      <td>NaN</td>\n",
       "      <td>NaN</td>\n",
       "    </tr>\n",
       "    <tr>\n",
       "      <th>3</th>\n",
       "      <td>-81.151111</td>\n",
       "      <td>43.033056</td>\n",
       "      <td>LONDON A</td>\n",
       "      <td>6144473</td>\n",
       "      <td>6144473.2012.3.23</td>\n",
       "      <td>2012-03-23 00:00:00</td>\n",
       "      <td>ON</td>\n",
       "      <td>2012</td>\n",
       "      <td>3</td>\n",
       "      <td>23</td>\n",
       "      <td>...</td>\n",
       "      <td>61.0</td>\n",
       "      <td>NaN</td>\n",
       "      <td>0.55</td>\n",
       "      <td>M</td>\n",
       "      <td>4.25</td>\n",
       "      <td>M</td>\n",
       "      <td>NaN</td>\n",
       "      <td>NaN</td>\n",
       "      <td>NaN</td>\n",
       "      <td>NaN</td>\n",
       "    </tr>\n",
       "    <tr>\n",
       "      <th>4</th>\n",
       "      <td>-81.151111</td>\n",
       "      <td>43.033056</td>\n",
       "      <td>LONDON A</td>\n",
       "      <td>6144473</td>\n",
       "      <td>6144473.2012.3.24</td>\n",
       "      <td>2012-03-24 00:00:00</td>\n",
       "      <td>ON</td>\n",
       "      <td>2012</td>\n",
       "      <td>3</td>\n",
       "      <td>24</td>\n",
       "      <td>...</td>\n",
       "      <td>35.0</td>\n",
       "      <td>NaN</td>\n",
       "      <td>0.00</td>\n",
       "      <td>NaN</td>\n",
       "      <td>8.50</td>\n",
       "      <td>NaN</td>\n",
       "      <td>NaN</td>\n",
       "      <td>NaN</td>\n",
       "      <td>NaN</td>\n",
       "      <td>NaN</td>\n",
       "    </tr>\n",
       "  </tbody>\n",
       "</table>\n",
       "<p>5 rows × 36 columns</p>\n",
       "</div>"
      ],
      "text/plain": [
       "           x          y STATION_NAME  CLIMATE_IDENTIFIER                 ID  \\\n",
       "0 -81.151111  43.033056     LONDON A             6144473  6144473.2012.3.20   \n",
       "1 -81.151111  43.033056     LONDON A             6144473  6144473.2012.3.21   \n",
       "2 -81.151111  43.033056     LONDON A             6144473  6144473.2012.3.22   \n",
       "3 -81.151111  43.033056     LONDON A             6144473  6144473.2012.3.23   \n",
       "4 -81.151111  43.033056     LONDON A             6144473  6144473.2012.3.24   \n",
       "\n",
       "            LOCAL_DATE PROVINCE_CODE  LOCAL_YEAR  LOCAL_MONTH  LOCAL_DAY  ...  \\\n",
       "0  2012-03-20 00:00:00            ON        2012            3         20  ...   \n",
       "1  2012-03-21 00:00:00            ON        2012            3         21  ...   \n",
       "2  2012-03-22 00:00:00            ON        2012            3         22  ...   \n",
       "3  2012-03-23 00:00:00            ON        2012            3         23  ...   \n",
       "4  2012-03-24 00:00:00            ON        2012            3         24  ...   \n",
       "\n",
       "   SPEED_MAX_GUST SPEED_MAX_GUST_FLAG  COOLING_DEGREE_DAYS  \\\n",
       "0             0.0                 NaN                 0.00   \n",
       "1            50.0                 NaN                 0.90   \n",
       "2             0.0                 NaN                 1.10   \n",
       "3            61.0                 NaN                 0.55   \n",
       "4            35.0                 NaN                 0.00   \n",
       "\n",
       "  COOLING_DEGREE_DAYS_FLAG  HEATING_DEGREE_DAYS HEATING_DEGREE_DAYS_FLAG  \\\n",
       "0                      NaN                 0.10                      NaN   \n",
       "1                      NaN                 0.00                      NaN   \n",
       "2                      NaN                 0.00                      NaN   \n",
       "3                        M                 4.25                        M   \n",
       "4                      NaN                 8.50                      NaN   \n",
       "\n",
       "   MIN_REL_HUMIDITY MIN_REL_HUMIDITY_FLAG  MAX_REL_HUMIDITY  \\\n",
       "0               NaN                   NaN               NaN   \n",
       "1               NaN                   NaN               NaN   \n",
       "2               NaN                   NaN               NaN   \n",
       "3               NaN                   NaN               NaN   \n",
       "4               NaN                   NaN               NaN   \n",
       "\n",
       "  MAX_REL_HUMIDITY_FLAG  \n",
       "0                   NaN  \n",
       "1                   NaN  \n",
       "2                   NaN  \n",
       "3                   NaN  \n",
       "4                   NaN  \n",
       "\n",
       "[5 rows x 36 columns]"
      ]
     },
     "execution_count": 2,
     "metadata": {},
     "output_type": "execute_result"
    }
   ],
   "source": [
    "df = pd.read_csv('climate-daily.csv', low_memory=False )\n",
    "\n",
    "df.interpolate(method ='linear', limit_direction ='forward', inplace=True)\n",
    "\n",
    "df.head()"
   ]
  },
  {
   "cell_type": "markdown",
   "metadata": {},
   "source": [
    "<h3>Describing the data set </h3>"
   ]
  },
  {
   "cell_type": "code",
   "execution_count": 3,
   "metadata": {},
   "outputs": [
    {
     "data": {
      "text/html": [
       "<div>\n",
       "<style scoped>\n",
       "    .dataframe tbody tr th:only-of-type {\n",
       "        vertical-align: middle;\n",
       "    }\n",
       "\n",
       "    .dataframe tbody tr th {\n",
       "        vertical-align: top;\n",
       "    }\n",
       "\n",
       "    .dataframe thead th {\n",
       "        text-align: right;\n",
       "    }\n",
       "</style>\n",
       "<table border=\"1\" class=\"dataframe\">\n",
       "  <thead>\n",
       "    <tr style=\"text-align: right;\">\n",
       "      <th></th>\n",
       "      <th>x</th>\n",
       "      <th>y</th>\n",
       "      <th>CLIMATE_IDENTIFIER</th>\n",
       "      <th>LOCAL_YEAR</th>\n",
       "      <th>LOCAL_MONTH</th>\n",
       "      <th>LOCAL_DAY</th>\n",
       "      <th>MEAN_TEMPERATURE</th>\n",
       "      <th>MIN_TEMPERATURE</th>\n",
       "      <th>MAX_TEMPERATURE</th>\n",
       "      <th>TOTAL_PRECIPITATION</th>\n",
       "      <th>TOTAL_RAIN</th>\n",
       "      <th>TOTAL_SNOW</th>\n",
       "      <th>SNOW_ON_GROUND</th>\n",
       "      <th>SNOW_ON_GROUND_FLAG</th>\n",
       "      <th>DIRECTION_MAX_GUST</th>\n",
       "      <th>SPEED_MAX_GUST</th>\n",
       "      <th>COOLING_DEGREE_DAYS</th>\n",
       "      <th>HEATING_DEGREE_DAYS</th>\n",
       "      <th>MIN_REL_HUMIDITY</th>\n",
       "      <th>MAX_REL_HUMIDITY</th>\n",
       "    </tr>\n",
       "  </thead>\n",
       "  <tbody>\n",
       "    <tr>\n",
       "      <th>count</th>\n",
       "      <td>3.011000e+03</td>\n",
       "      <td>3.011000e+03</td>\n",
       "      <td>3011.0</td>\n",
       "      <td>3011.000000</td>\n",
       "      <td>3011.000000</td>\n",
       "      <td>3011.000000</td>\n",
       "      <td>3011.000000</td>\n",
       "      <td>3011.000000</td>\n",
       "      <td>3011.000000</td>\n",
       "      <td>0.0</td>\n",
       "      <td>0.0</td>\n",
       "      <td>0.0</td>\n",
       "      <td>0.0</td>\n",
       "      <td>0.0</td>\n",
       "      <td>3011.000000</td>\n",
       "      <td>3011.000000</td>\n",
       "      <td>3011.000000</td>\n",
       "      <td>3011.000000</td>\n",
       "      <td>611.000000</td>\n",
       "      <td>611.000000</td>\n",
       "    </tr>\n",
       "    <tr>\n",
       "      <th>mean</th>\n",
       "      <td>-8.115111e+01</td>\n",
       "      <td>4.303306e+01</td>\n",
       "      <td>6144473.0</td>\n",
       "      <td>2015.878446</td>\n",
       "      <td>6.466290</td>\n",
       "      <td>15.762537</td>\n",
       "      <td>8.182398</td>\n",
       "      <td>3.092544</td>\n",
       "      <td>13.243872</td>\n",
       "      <td>NaN</td>\n",
       "      <td>NaN</td>\n",
       "      <td>NaN</td>\n",
       "      <td>NaN</td>\n",
       "      <td>NaN</td>\n",
       "      <td>0.727001</td>\n",
       "      <td>1.539356</td>\n",
       "      <td>0.761392</td>\n",
       "      <td>10.578994</td>\n",
       "      <td>59.324059</td>\n",
       "      <td>92.936170</td>\n",
       "    </tr>\n",
       "    <tr>\n",
       "      <th>std</th>\n",
       "      <td>2.117769e-12</td>\n",
       "      <td>4.974625e-14</td>\n",
       "      <td>0.0</td>\n",
       "      <td>2.412971</td>\n",
       "      <td>3.407795</td>\n",
       "      <td>8.810995</td>\n",
       "      <td>10.675195</td>\n",
       "      <td>10.005230</td>\n",
       "      <td>11.658458</td>\n",
       "      <td>NaN</td>\n",
       "      <td>NaN</td>\n",
       "      <td>NaN</td>\n",
       "      <td>NaN</td>\n",
       "      <td>NaN</td>\n",
       "      <td>4.229056</td>\n",
       "      <td>8.294979</td>\n",
       "      <td>1.727998</td>\n",
       "      <td>9.739640</td>\n",
       "      <td>14.869974</td>\n",
       "      <td>6.725656</td>\n",
       "    </tr>\n",
       "    <tr>\n",
       "      <th>min</th>\n",
       "      <td>-8.115111e+01</td>\n",
       "      <td>4.303306e+01</td>\n",
       "      <td>6144473.0</td>\n",
       "      <td>2012.000000</td>\n",
       "      <td>1.000000</td>\n",
       "      <td>1.000000</td>\n",
       "      <td>-24.500000</td>\n",
       "      <td>-30.500000</td>\n",
       "      <td>-19.000000</td>\n",
       "      <td>NaN</td>\n",
       "      <td>NaN</td>\n",
       "      <td>NaN</td>\n",
       "      <td>NaN</td>\n",
       "      <td>NaN</td>\n",
       "      <td>0.000000</td>\n",
       "      <td>0.000000</td>\n",
       "      <td>0.000000</td>\n",
       "      <td>0.000000</td>\n",
       "      <td>20.000000</td>\n",
       "      <td>67.000000</td>\n",
       "    </tr>\n",
       "    <tr>\n",
       "      <th>25%</th>\n",
       "      <td>-8.115111e+01</td>\n",
       "      <td>4.303306e+01</td>\n",
       "      <td>6144473.0</td>\n",
       "      <td>2014.000000</td>\n",
       "      <td>4.000000</td>\n",
       "      <td>8.000000</td>\n",
       "      <td>0.100000</td>\n",
       "      <td>-3.500000</td>\n",
       "      <td>3.500000</td>\n",
       "      <td>NaN</td>\n",
       "      <td>NaN</td>\n",
       "      <td>NaN</td>\n",
       "      <td>NaN</td>\n",
       "      <td>NaN</td>\n",
       "      <td>0.000000</td>\n",
       "      <td>0.000000</td>\n",
       "      <td>0.000000</td>\n",
       "      <td>0.400000</td>\n",
       "      <td>49.000000</td>\n",
       "      <td>89.000000</td>\n",
       "    </tr>\n",
       "    <tr>\n",
       "      <th>50%</th>\n",
       "      <td>-8.115111e+01</td>\n",
       "      <td>4.303306e+01</td>\n",
       "      <td>6144473.0</td>\n",
       "      <td>2016.000000</td>\n",
       "      <td>6.000000</td>\n",
       "      <td>16.000000</td>\n",
       "      <td>8.400000</td>\n",
       "      <td>3.000000</td>\n",
       "      <td>14.200000</td>\n",
       "      <td>NaN</td>\n",
       "      <td>NaN</td>\n",
       "      <td>NaN</td>\n",
       "      <td>NaN</td>\n",
       "      <td>NaN</td>\n",
       "      <td>0.000000</td>\n",
       "      <td>0.000000</td>\n",
       "      <td>0.000000</td>\n",
       "      <td>9.600000</td>\n",
       "      <td>59.000000</td>\n",
       "      <td>95.000000</td>\n",
       "    </tr>\n",
       "    <tr>\n",
       "      <th>75%</th>\n",
       "      <td>-8.115111e+01</td>\n",
       "      <td>4.303306e+01</td>\n",
       "      <td>6144473.0</td>\n",
       "      <td>2018.000000</td>\n",
       "      <td>9.000000</td>\n",
       "      <td>23.000000</td>\n",
       "      <td>17.600000</td>\n",
       "      <td>11.300000</td>\n",
       "      <td>23.800000</td>\n",
       "      <td>NaN</td>\n",
       "      <td>NaN</td>\n",
       "      <td>NaN</td>\n",
       "      <td>NaN</td>\n",
       "      <td>NaN</td>\n",
       "      <td>0.000000</td>\n",
       "      <td>0.000000</td>\n",
       "      <td>0.000000</td>\n",
       "      <td>17.900000</td>\n",
       "      <td>69.000000</td>\n",
       "      <td>98.000000</td>\n",
       "    </tr>\n",
       "    <tr>\n",
       "      <th>max</th>\n",
       "      <td>-8.115111e+01</td>\n",
       "      <td>4.303306e+01</td>\n",
       "      <td>6144473.0</td>\n",
       "      <td>2020.000000</td>\n",
       "      <td>12.000000</td>\n",
       "      <td>31.000000</td>\n",
       "      <td>28.500000</td>\n",
       "      <td>23.200000</td>\n",
       "      <td>34.800000</td>\n",
       "      <td>NaN</td>\n",
       "      <td>NaN</td>\n",
       "      <td>NaN</td>\n",
       "      <td>NaN</td>\n",
       "      <td>NaN</td>\n",
       "      <td>36.000000</td>\n",
       "      <td>96.000000</td>\n",
       "      <td>10.500000</td>\n",
       "      <td>42.500000</td>\n",
       "      <td>95.000000</td>\n",
       "      <td>100.000000</td>\n",
       "    </tr>\n",
       "  </tbody>\n",
       "</table>\n",
       "</div>"
      ],
      "text/plain": [
       "                  x             y  CLIMATE_IDENTIFIER   LOCAL_YEAR  \\\n",
       "count  3.011000e+03  3.011000e+03              3011.0  3011.000000   \n",
       "mean  -8.115111e+01  4.303306e+01           6144473.0  2015.878446   \n",
       "std    2.117769e-12  4.974625e-14                 0.0     2.412971   \n",
       "min   -8.115111e+01  4.303306e+01           6144473.0  2012.000000   \n",
       "25%   -8.115111e+01  4.303306e+01           6144473.0  2014.000000   \n",
       "50%   -8.115111e+01  4.303306e+01           6144473.0  2016.000000   \n",
       "75%   -8.115111e+01  4.303306e+01           6144473.0  2018.000000   \n",
       "max   -8.115111e+01  4.303306e+01           6144473.0  2020.000000   \n",
       "\n",
       "       LOCAL_MONTH    LOCAL_DAY  MEAN_TEMPERATURE  MIN_TEMPERATURE  \\\n",
       "count  3011.000000  3011.000000       3011.000000      3011.000000   \n",
       "mean      6.466290    15.762537          8.182398         3.092544   \n",
       "std       3.407795     8.810995         10.675195        10.005230   \n",
       "min       1.000000     1.000000        -24.500000       -30.500000   \n",
       "25%       4.000000     8.000000          0.100000        -3.500000   \n",
       "50%       6.000000    16.000000          8.400000         3.000000   \n",
       "75%       9.000000    23.000000         17.600000        11.300000   \n",
       "max      12.000000    31.000000         28.500000        23.200000   \n",
       "\n",
       "       MAX_TEMPERATURE  TOTAL_PRECIPITATION  TOTAL_RAIN  TOTAL_SNOW  \\\n",
       "count      3011.000000                  0.0         0.0         0.0   \n",
       "mean         13.243872                  NaN         NaN         NaN   \n",
       "std          11.658458                  NaN         NaN         NaN   \n",
       "min         -19.000000                  NaN         NaN         NaN   \n",
       "25%           3.500000                  NaN         NaN         NaN   \n",
       "50%          14.200000                  NaN         NaN         NaN   \n",
       "75%          23.800000                  NaN         NaN         NaN   \n",
       "max          34.800000                  NaN         NaN         NaN   \n",
       "\n",
       "       SNOW_ON_GROUND  SNOW_ON_GROUND_FLAG  DIRECTION_MAX_GUST  \\\n",
       "count             0.0                  0.0         3011.000000   \n",
       "mean              NaN                  NaN            0.727001   \n",
       "std               NaN                  NaN            4.229056   \n",
       "min               NaN                  NaN            0.000000   \n",
       "25%               NaN                  NaN            0.000000   \n",
       "50%               NaN                  NaN            0.000000   \n",
       "75%               NaN                  NaN            0.000000   \n",
       "max               NaN                  NaN           36.000000   \n",
       "\n",
       "       SPEED_MAX_GUST  COOLING_DEGREE_DAYS  HEATING_DEGREE_DAYS  \\\n",
       "count     3011.000000          3011.000000          3011.000000   \n",
       "mean         1.539356             0.761392            10.578994   \n",
       "std          8.294979             1.727998             9.739640   \n",
       "min          0.000000             0.000000             0.000000   \n",
       "25%          0.000000             0.000000             0.400000   \n",
       "50%          0.000000             0.000000             9.600000   \n",
       "75%          0.000000             0.000000            17.900000   \n",
       "max         96.000000            10.500000            42.500000   \n",
       "\n",
       "       MIN_REL_HUMIDITY  MAX_REL_HUMIDITY  \n",
       "count        611.000000        611.000000  \n",
       "mean          59.324059         92.936170  \n",
       "std           14.869974          6.725656  \n",
       "min           20.000000         67.000000  \n",
       "25%           49.000000         89.000000  \n",
       "50%           59.000000         95.000000  \n",
       "75%           69.000000         98.000000  \n",
       "max           95.000000        100.000000  "
      ]
     },
     "execution_count": 3,
     "metadata": {},
     "output_type": "execute_result"
    }
   ],
   "source": [
    "df.describe()"
   ]
  },
  {
   "cell_type": "markdown",
   "metadata": {},
   "source": [
    "<h3>Finding the features that have null values </h3>"
   ]
  },
  {
   "cell_type": "code",
   "execution_count": 4,
   "metadata": {},
   "outputs": [
    {
     "data": {
      "text/plain": [
       "x                              0\n",
       "y                              0\n",
       "STATION_NAME                   0\n",
       "CLIMATE_IDENTIFIER             0\n",
       "ID                             0\n",
       "LOCAL_DATE                     0\n",
       "PROVINCE_CODE                  0\n",
       "LOCAL_YEAR                     0\n",
       "LOCAL_MONTH                    0\n",
       "LOCAL_DAY                      0\n",
       "MEAN_TEMPERATURE               0\n",
       "MEAN_TEMPERATURE_FLAG       2987\n",
       "MIN_TEMPERATURE                0\n",
       "MIN_TEMPERATURE_FLAG        2987\n",
       "MAX_TEMPERATURE                0\n",
       "MAX_TEMPERATURE_FLAG        2987\n",
       "TOTAL_PRECIPITATION         3011\n",
       "TOTAL_PRECIPITATION_FLAG       0\n",
       "TOTAL_RAIN                  3011\n",
       "TOTAL_RAIN_FLAG                0\n",
       "TOTAL_SNOW                  3011\n",
       "TOTAL_SNOW_FLAG                0\n",
       "SNOW_ON_GROUND              3011\n",
       "SNOW_ON_GROUND_FLAG         3011\n",
       "DIRECTION_MAX_GUST             0\n",
       "DIRECTION_MAX_GUST_FLAG     2393\n",
       "SPEED_MAX_GUST                 0\n",
       "SPEED_MAX_GUST_FLAG         2393\n",
       "COOLING_DEGREE_DAYS            0\n",
       "COOLING_DEGREE_DAYS_FLAG    2987\n",
       "HEATING_DEGREE_DAYS            0\n",
       "HEATING_DEGREE_DAYS_FLAG    2987\n",
       "MIN_REL_HUMIDITY            2400\n",
       "MIN_REL_HUMIDITY_FLAG       3006\n",
       "MAX_REL_HUMIDITY            2400\n",
       "MAX_REL_HUMIDITY_FLAG       3006\n",
       "dtype: int64"
      ]
     },
     "execution_count": 4,
     "metadata": {},
     "output_type": "execute_result"
    }
   ],
   "source": [
    "df.isnull().sum()"
   ]
  },
  {
   "cell_type": "markdown",
   "metadata": {},
   "source": [
    "<h3>Using unit circle mapping from temporal values</h3>"
   ]
  },
  {
   "cell_type": "code",
   "execution_count": 8,
   "metadata": {},
   "outputs": [
    {
     "name": "stdout",
     "output_type": "stream",
     "text": [
      "Unique values of month: [ 3  4  5  6  7  8  9 10 11 12  1  2]\n",
      "Unique values of day:  [20 21 22 23 24 25 26 27 28 29 30 31  1  2  3  4  5  6  7  8  9 10 11 12\n",
      " 13 14 15 16 17 18 19]\n"
     ]
    }
   ],
   "source": [
    "year = df['LOCAL_YEAR']\n",
    "month = df['LOCAL_MONTH']\n",
    "day = df['LOCAL_DAY']\n",
    "\n",
    "circMap = pd.concat([month, day], axis=1,)\n",
    "\n",
    "print ('Unique values of month:',circMap.LOCAL_MONTH.unique())\n",
    "print('Unique values of day: ', circMap.LOCAL_DAY.unique())\n",
    "\n"
   ]
  },
  {
   "cell_type": "code",
   "execution_count": 9,
   "metadata": {},
   "outputs": [],
   "source": [
    "circMap['mnth_sin'] = np.sin((circMap.LOCAL_MONTH)*(2.*np.pi/12))\n",
    "circMap['mnth_cos'] = np.cos((circMap.LOCAL_MONTH)*(2.*np.pi/12))\n",
    "circMap['day_sin'] = np.sin((circMap.LOCAL_DAY)*(2.*np.pi/31))\n",
    "circMap['day_cos'] = np.cos((circMap.LOCAL_DAY)*(2.*np.pi/31))\n"
   ]
  },
  {
   "cell_type": "code",
   "execution_count": 12,
   "metadata": {},
   "outputs": [
    {
     "name": "stdout",
     "output_type": "stream",
     "text": [
      "(3011, 5)\n",
      "(3011,)\n"
     ]
    }
   ],
   "source": [
    "\n",
    "X = pd.concat([year, circMap['mnth_sin'], circMap['mnth_cos'], circMap['day_sin'], circMap['day_cos']], axis=1)\n",
    "y = df['MEAN_TEMPERATURE']\n",
    "\n",
    "print(X.shape)\n",
    "print(y.shape)"
   ]
  },
  {
   "cell_type": "markdown",
   "metadata": {},
   "source": [
    "<h3>Splitting the data into a testing and a training set</h3>"
   ]
  },
  {
   "cell_type": "code",
   "execution_count": 13,
   "metadata": {},
   "outputs": [],
   "source": [
    "X_train, X_test, Y_train, Y_test = train_test_split(X, y, test_size=0.2, random_state= 0)"
   ]
  },
  {
   "cell_type": "markdown",
   "metadata": {},
   "source": [
    "<h3>Using the Random Forest Regresser model to fit the data</h3>"
   ]
  },
  {
   "cell_type": "code",
   "execution_count": 14,
   "metadata": {},
   "outputs": [
    {
     "data": {
      "text/plain": [
       "RandomForestRegressor(bootstrap=True, ccp_alpha=0.0, criterion='mse',\n",
       "                      max_depth=None, max_features='auto', max_leaf_nodes=None,\n",
       "                      max_samples=None, min_impurity_decrease=0.0,\n",
       "                      min_impurity_split=None, min_samples_leaf=1,\n",
       "                      min_samples_split=2, min_weight_fraction_leaf=0.0,\n",
       "                      n_estimators=100, n_jobs=None, oob_score=False,\n",
       "                      random_state=None, verbose=0, warm_start=False)"
      ]
     },
     "execution_count": 14,
     "metadata": {},
     "output_type": "execute_result"
    }
   ],
   "source": [
    "X_train1, Y_train1 = X_train, Y_train\n",
    "tree_model = RandomForestRegressor()\n",
    "tree_model.fit(X_train1, Y_train1)"
   ]
  },
  {
   "cell_type": "markdown",
   "metadata": {},
   "source": [
    "<h3>Testing the models</h3>"
   ]
  },
  {
   "cell_type": "code",
   "execution_count": 15,
   "metadata": {},
   "outputs": [],
   "source": [
    "y_pred1 = tree_model.predict(X_test)"
   ]
  },
  {
   "cell_type": "markdown",
   "metadata": {},
   "source": [
    "<h3>Comparing the actual outputs vs. the predicted outputs</h3>"
   ]
  },
  {
   "cell_type": "code",
   "execution_count": 16,
   "metadata": {},
   "outputs": [
    {
     "name": "stdout",
     "output_type": "stream",
     "text": [
      "      Actual  Predicted\n",
      "2065     2.2      6.183\n",
      "553     11.9     12.264\n",
      "2594     7.5      7.814\n",
      "2487    -9.2     -6.110\n",
      "1872    13.0     13.070\n",
      "489     14.8     22.014\n",
      "1840     8.3     11.919\n",
      "2779    -6.6     -3.444\n",
      "1841    14.2      9.885\n",
      "118     24.3     21.554\n"
     ]
    }
   ],
   "source": [
    "df = pd.DataFrame({'Actual': Y_test, 'Predicted': y_pred1})\n",
    "print(df.head(10))\n",
    "plot1 = df[:10]"
   ]
  },
  {
   "cell_type": "markdown",
   "metadata": {},
   "source": [
    "<h3>Plotting the actual outputs vs. the predicted outputs</h3>"
   ]
  },
  {
   "cell_type": "code",
   "execution_count": 17,
   "metadata": {},
   "outputs": [
    {
     "data": {
      "image/png": "[encoded data removed]",
      "text/plain": [
       "<Figure size 720x576 with 1 Axes>"
      ]
     },
     "metadata": {
      "needs_background": "light"
     },
     "output_type": "display_data"
    }
   ],
   "source": [
    "plot1.plot(kind='bar',figsize=(10,8))\n",
    "\n",
    "plt.grid(which='major', linestyle='-', linewidth='0.5', color='green')\n",
    "plt.grid(which='minor', linestyle=':', linewidth='0.5', color='black')\n",
    "plt.title('Actual vs Predicted Temperatures with Random Forest Regresser')\n",
    "plt.ylabel('Temperature')\n",
    "plt.xlabel('Datas index number')\n",
    "\n",
    "plt.show()"
   ]
  },
  {
   "cell_type": "markdown",
   "metadata": {},
   "source": [
    "<h3>Determining the intercept value, the root mean square error and the r squared value to validate our model</h3>"
   ]
  },
  {
   "cell_type": "code",
   "execution_count": 18,
   "metadata": {},
   "outputs": [
    {
     "name": "stdout",
     "output_type": "stream",
     "text": [
      "Random Forest Regressor\n",
      "Root Mean Square Error \n",
      " 3.7572087365617333\n",
      "R^2 Value: \n",
      " 0.8829501344957303\n"
     ]
    }
   ],
   "source": [
    "# Root Mean Squared Deviation\n",
    "rmsd = np.sqrt(mean_squared_error(Y_test, y_pred1))      \n",
    "r2_value = r2_score(Y_test, y_pred1)                     \n",
    "\n",
    "print('Random Forest Regressor')\n",
    "print(\"Root Mean Square Error \\n\", rmsd) #the lower the value the better the fit\n",
    "print(\"R^2 Value: \\n\", r2_value) #the closer to 1 the better the fit"
   ]
  },
  {
   "cell_type": "markdown",
   "metadata": {},
   "source": [
    "<h3>Predicting the weather today</h3>"
   ]
  },
  {
   "cell_type": "code",
   "execution_count": 22,
   "metadata": {},
   "outputs": [
    {
     "name": "stdout",
     "output_type": "stream",
     "text": [
      "   Year  Month Sin  Month Cos   Day Sin   Day Cos\n",
      "0  2020        0.5  -0.866025 -0.998717 -0.050649\n"
     ]
    }
   ],
   "source": [
    "#print(X)\n",
    "\n",
    "def predict(year, month, day):\n",
    "    \n",
    "    monthSin = np.sin((month-1)*(2.*np.pi/12))\n",
    "    monthCos = np.cos((month-1)*(2.*np.pi/12))\n",
    "    daySin = np.sin((day-1)*(2.*np.pi/31))\n",
    "    dayCos = np.cos((day-1)*(2.*np.pi/31))\n",
    "   \n",
    "    predictdf = pd.DataFrame({'Year': year, 'Month Sin': monthSin, 'Month Cos': monthCos, 'Day Sin': daySin, 'Day Cos':dayCos}, index=[0])\n",
    "    return predictdf\n",
    "    \n",
    "    \n",
    "pred = predict(2020, 6, 24)\n",
    "print(pred)"
   ]
  },
  {
   "cell_type": "code",
   "execution_count": 23,
   "metadata": {},
   "outputs": [],
   "source": [
    "y_predDay = tree_model.predict(pred)"
   ]
  },
  {
   "cell_type": "code",
   "execution_count": 24,
   "metadata": {},
   "outputs": [
    {
     "name": "stdout",
     "output_type": "stream",
     "text": [
      "The predict temperature for June 24, 2020 at 11am is:  [18.614]  degrees celsius\n"
     ]
    }
   ],
   "source": [
    "print('The predict temperature for June 24, 2020 at 11am is: ',y_predDay, ' degrees celsius')"
   ]
  },
  {
   "cell_type": "code",
   "execution_count": null,
   "metadata": {},
   "outputs": [],
   "source": []
  }
 ],
 "metadata": {
  "kernelspec": {
   "display_name": "Python 3",
   "language": "python",
   "name": "python3"
  },
  "language_info": {
   "codemirror_mode": {
    "name": "ipython",
    "version": 3
   },
   "file_extension": ".py",
   "mimetype": "text/x-python",
   "name": "python",
   "nbconvert_exporter": "python",
   "pygments_lexer": "ipython3",
   "version": "3.7.6"
  }
 },
 "nbformat": 4,
 "nbformat_minor": 4
}
